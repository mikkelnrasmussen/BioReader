{
 "cells": [
  {
   "attachments": {},
   "cell_type": "markdown",
   "metadata": {},
   "source": [
    "## Test the use of a pre-trained transformer model for text classification"
   ]
  },
  {
   "attachments": {},
   "cell_type": "markdown",
   "metadata": {},
   "source": [
    "### Load libraries"
   ]
  },
  {
   "cell_type": "code",
   "execution_count": 1,
   "metadata": {},
   "outputs": [
    {
     "name": "stderr",
     "output_type": "stream",
     "text": [
      "/Library/Frameworks/Python.framework/Versions/3.11/lib/python3.11/site-packages/tqdm/auto.py:21: TqdmWarning: IProgress not found. Please update jupyter and ipywidgets. See https://ipywidgets.readthedocs.io/en/stable/user_install.html\n",
      "  from .autonotebook import tqdm as notebook_tqdm\n"
     ]
    }
   ],
   "source": [
    "# Data wrangling\n",
    "import pandas as pd\n",
    "import os\n",
    "from sklearn.model_selection import train_test_split\n",
    "from pyprojroot.here import here\n",
    "\n",
    "# Model training\n",
    "import torch\n",
    "from sklearn.preprocessing import LabelEncoder\n",
    "from transformers import BertTokenizer, BertForSequenceClassification, AutoModelForSequenceClassification, AdamW, get_scheduler\n",
    "from torch.utils.data import DataLoader, TensorDataset, Dataset\n",
    "from tqdm.auto import tqdm\n",
    "from datasets import load_metric\n",
    "\n",
    "# Model evaluation\n",
    "from sklearn.metrics import confusion_matrix, classification_report\n",
    "import seaborn as sns\n",
    "import matplotlib.pyplot as plt"
   ]
  },
  {
   "attachments": {},
   "cell_type": "markdown",
   "metadata": {},
   "source": [
    "### Preprocess data"
   ]
  },
  {
   "cell_type": "code",
   "execution_count": 2,
   "metadata": {},
   "outputs": [],
   "source": [
    "# Load the training data and combine\n",
    "data_path = here(\"data/training_data\")\n",
    "all_files = [os.path.join(data_path, f) for f in os.listdir(data_path) if f.endswith(\".csv\")]\n",
    "df_list = [pd.read_csv(file) for file in all_files]\n",
    "combined_df = pd.concat(df_list, ignore_index=True)\n",
    "\n",
    "# Load the excel file containing category information\n",
    "category_info = pd.read_excel(here(\"data/All_Updated_Categories_2019_edited_by_mikkel.xlsx\"))\n",
    "\n",
    "# Merge the dataframes\n",
    "merged_df = pd.merge(\n",
    "  combined_df, \n",
    "  category_info, \n",
    "  left_on = \"SubType\", \n",
    "  right_on = \"subcategory\",\n",
    "  how = \"left\"\n",
    ")"
   ]
  },
  {
   "attachments": {},
   "cell_type": "markdown",
   "metadata": {},
   "source": [
    "### Quality control"
   ]
  },
  {
   "cell_type": "code",
   "execution_count": 3,
   "metadata": {},
   "outputs": [
    {
     "name": "stdout",
     "output_type": "stream",
     "text": [
      "Class Counts:\n",
      " class\n",
      "Infectious_Disease    27508\n",
      "Other                 11514\n",
      "Autoimm               11167\n",
      "Cancer                10957\n",
      "Allergen               4019\n",
      "Transplant             1805\n",
      "Name: count, dtype: int64\n",
      "\n",
      "Subcategory Counts:\n",
      " subcategory\n",
      "OTC       2885\n",
      "OTFLU     2534\n",
      "OTGA      2479\n",
      "PLASMO    2183\n",
      "SARS      2175\n",
      "          ... \n",
      "FIB         23\n",
      "METAL       23\n",
      "BIME        20\n",
      "INTG        17\n",
      "PROST       16\n",
      "Name: count, Length: 176, dtype: int64\n"
     ]
    }
   ],
   "source": [
    "# Check the number of documents for each class, category, and subcategory\n",
    "class_counts = merged_df['class'].value_counts()\n",
    "subcategory_counts = merged_df['subcategory'].value_counts()\n",
    "\n",
    "print(\"Class Counts:\\n\", class_counts)\n",
    "print(\"\\nSubcategory Counts:\\n\", subcategory_counts)"
   ]
  },
  {
   "cell_type": "code",
   "execution_count": 4,
   "metadata": {},
   "outputs": [
    {
     "name": "stdout",
     "output_type": "stream",
     "text": [
      "Missing Values:\n",
      " PubMed_ID           0\n",
      "Title               8\n",
      "Abstract            0\n",
      "SubType             0\n",
      "Class             487\n",
      "Category        16265\n",
      "Subcategory       487\n",
      "Abbreviation      487\n",
      "OK                487\n",
      "class             487\n",
      "category        16265\n",
      "subcategory       487\n",
      "dtype: int64\n"
     ]
    }
   ],
   "source": [
    "missing_values = merged_df.isnull().sum()\n",
    "print(\"Missing Values:\\n\", missing_values)"
   ]
  },
  {
   "cell_type": "code",
   "execution_count": 5,
   "metadata": {},
   "outputs": [
    {
     "data": {
      "text/html": [
       "<div>\n",
       "<style scoped>\n",
       "    .dataframe tbody tr th:only-of-type {\n",
       "        vertical-align: middle;\n",
       "    }\n",
       "\n",
       "    .dataframe tbody tr th {\n",
       "        vertical-align: top;\n",
       "    }\n",
       "\n",
       "    .dataframe thead th {\n",
       "        text-align: right;\n",
       "    }\n",
       "</style>\n",
       "<table border=\"1\" class=\"dataframe\">\n",
       "  <thead>\n",
       "    <tr style=\"text-align: right;\">\n",
       "      <th></th>\n",
       "      <th>PubMed_ID</th>\n",
       "      <th>Title</th>\n",
       "      <th>Abstract</th>\n",
       "      <th>SubType</th>\n",
       "      <th>Class</th>\n",
       "      <th>Category</th>\n",
       "      <th>Subcategory</th>\n",
       "      <th>Abbreviation</th>\n",
       "      <th>OK</th>\n",
       "      <th>class</th>\n",
       "      <th>category</th>\n",
       "      <th>subcategory</th>\n",
       "    </tr>\n",
       "  </thead>\n",
       "  <tbody>\n",
       "    <tr>\n",
       "      <th>5459</th>\n",
       "      <td>11006009</td>\n",
       "      <td>NaN</td>\n",
       "      <td>[Data extracted from this article was imported...</td>\n",
       "      <td>HCV</td>\n",
       "      <td>Infectious Disease</td>\n",
       "      <td>ssRNA (+) Strand Virus</td>\n",
       "      <td>Hepatitis C Virus</td>\n",
       "      <td>HCV</td>\n",
       "      <td>x</td>\n",
       "      <td>Infectious_Disease</td>\n",
       "      <td>ssRNA_positive</td>\n",
       "      <td>HCV</td>\n",
       "    </tr>\n",
       "    <tr>\n",
       "      <th>10499</th>\n",
       "      <td>8567982</td>\n",
       "      <td>NaN</td>\n",
       "      <td>[Data extracted from this article was imported...</td>\n",
       "      <td>HBV</td>\n",
       "      <td>Infectious Disease</td>\n",
       "      <td>Retro-Transcribing Virus</td>\n",
       "      <td>Hepatitis B Virus</td>\n",
       "      <td>HBV</td>\n",
       "      <td>x</td>\n",
       "      <td>Infectious_Disease</td>\n",
       "      <td>Retro-Transcribing_Virus</td>\n",
       "      <td>HBV</td>\n",
       "    </tr>\n",
       "    <tr>\n",
       "      <th>13215</th>\n",
       "      <td>11012976</td>\n",
       "      <td>NaN</td>\n",
       "      <td>[Data extracted from this article was imported...</td>\n",
       "      <td>OTFLU</td>\n",
       "      <td>Infectious Disease</td>\n",
       "      <td>ssRNA (-) Strand Virus</td>\n",
       "      <td>Other Influenza A Subtypes</td>\n",
       "      <td>OTFLU</td>\n",
       "      <td>x</td>\n",
       "      <td>Infectious_Disease</td>\n",
       "      <td>ssRNA_negative</td>\n",
       "      <td>OTFLU</td>\n",
       "    </tr>\n",
       "    <tr>\n",
       "      <th>16750</th>\n",
       "      <td>11426965</td>\n",
       "      <td>NaN</td>\n",
       "      <td>[Data extracted from this article was imported...</td>\n",
       "      <td>HPV</td>\n",
       "      <td>Infectious Disease</td>\n",
       "      <td>dsDNA Virus</td>\n",
       "      <td>Human papillomavirus</td>\n",
       "      <td>HPV</td>\n",
       "      <td>x</td>\n",
       "      <td>Infectious_Disease</td>\n",
       "      <td>dsDNA_Virus</td>\n",
       "      <td>HPV</td>\n",
       "    </tr>\n",
       "    <tr>\n",
       "      <th>24876</th>\n",
       "      <td>15585860</td>\n",
       "      <td>NaN</td>\n",
       "      <td>Structural and physiological facets of carbohy...</td>\n",
       "      <td>MOAB</td>\n",
       "      <td>Other</td>\n",
       "      <td>Peptidic Antigen</td>\n",
       "      <td>General Monoclonal Antibodies</td>\n",
       "      <td>MOAB</td>\n",
       "      <td>x</td>\n",
       "      <td>Other</td>\n",
       "      <td>Peptidic_Antigen</td>\n",
       "      <td>MOAB</td>\n",
       "    </tr>\n",
       "    <tr>\n",
       "      <th>44549</th>\n",
       "      <td>15001714</td>\n",
       "      <td>NaN</td>\n",
       "      <td>CD8 T lymphocytes recognize peptides of 8 to 1...</td>\n",
       "      <td>MAA</td>\n",
       "      <td>Cancer</td>\n",
       "      <td>NaN</td>\n",
       "      <td>Tyrosinase, TRP2, GP100, TRP1, MART1, SOX10 (M...</td>\n",
       "      <td>MAA</td>\n",
       "      <td>x</td>\n",
       "      <td>Cancer</td>\n",
       "      <td>NaN</td>\n",
       "      <td>MAA</td>\n",
       "    </tr>\n",
       "    <tr>\n",
       "      <th>54471</th>\n",
       "      <td>29572442</td>\n",
       "      <td>NaN</td>\n",
       "      <td>The B cell survival factor (TNFSF13B/BAFF) is ...</td>\n",
       "      <td>OTLUP</td>\n",
       "      <td>Autoimmune</td>\n",
       "      <td>Lupus</td>\n",
       "      <td>Other</td>\n",
       "      <td>OTLUP</td>\n",
       "      <td>x</td>\n",
       "      <td>Autoimm</td>\n",
       "      <td>Lupus</td>\n",
       "      <td>OTLUP</td>\n",
       "    </tr>\n",
       "    <tr>\n",
       "      <th>63300</th>\n",
       "      <td>14724640</td>\n",
       "      <td>NaN</td>\n",
       "      <td>Cytotoxic T lymphocytes (CTLs) detect and dest...</td>\n",
       "      <td>RENAL</td>\n",
       "      <td>Cancer</td>\n",
       "      <td>NaN</td>\n",
       "      <td>Renal (RCC)</td>\n",
       "      <td>RENAL</td>\n",
       "      <td>x</td>\n",
       "      <td>Cancer</td>\n",
       "      <td>NaN</td>\n",
       "      <td>RENAL</td>\n",
       "    </tr>\n",
       "  </tbody>\n",
       "</table>\n",
       "</div>"
      ],
      "text/plain": [
       "       PubMed_ID Title                                           Abstract  \\\n",
       "5459    11006009   NaN  [Data extracted from this article was imported...   \n",
       "10499    8567982   NaN  [Data extracted from this article was imported...   \n",
       "13215   11012976   NaN  [Data extracted from this article was imported...   \n",
       "16750   11426965   NaN  [Data extracted from this article was imported...   \n",
       "24876   15585860   NaN  Structural and physiological facets of carbohy...   \n",
       "44549   15001714   NaN  CD8 T lymphocytes recognize peptides of 8 to 1...   \n",
       "54471   29572442   NaN  The B cell survival factor (TNFSF13B/BAFF) is ...   \n",
       "63300   14724640   NaN  Cytotoxic T lymphocytes (CTLs) detect and dest...   \n",
       "\n",
       "      SubType               Class                  Category  \\\n",
       "5459      HCV  Infectious Disease    ssRNA (+) Strand Virus   \n",
       "10499     HBV  Infectious Disease  Retro-Transcribing Virus   \n",
       "13215   OTFLU  Infectious Disease    ssRNA (-) Strand Virus   \n",
       "16750     HPV  Infectious Disease               dsDNA Virus   \n",
       "24876    MOAB               Other          Peptidic Antigen   \n",
       "44549     MAA              Cancer                       NaN   \n",
       "54471   OTLUP          Autoimmune                     Lupus   \n",
       "63300   RENAL              Cancer                       NaN   \n",
       "\n",
       "                                             Subcategory Abbreviation OK  \\\n",
       "5459                                   Hepatitis C Virus          HCV  x   \n",
       "10499                                  Hepatitis B Virus          HBV  x   \n",
       "13215                         Other Influenza A Subtypes        OTFLU  x   \n",
       "16750                               Human papillomavirus          HPV  x   \n",
       "24876                      General Monoclonal Antibodies         MOAB  x   \n",
       "44549  Tyrosinase, TRP2, GP100, TRP1, MART1, SOX10 (M...          MAA  x   \n",
       "54471                                              Other        OTLUP  x   \n",
       "63300                                        Renal (RCC)        RENAL  x   \n",
       "\n",
       "                    class                  category subcategory  \n",
       "5459   Infectious_Disease            ssRNA_positive         HCV  \n",
       "10499  Infectious_Disease  Retro-Transcribing_Virus         HBV  \n",
       "13215  Infectious_Disease            ssRNA_negative       OTFLU  \n",
       "16750  Infectious_Disease               dsDNA_Virus         HPV  \n",
       "24876               Other          Peptidic_Antigen        MOAB  \n",
       "44549              Cancer                       NaN         MAA  \n",
       "54471             Autoimm                     Lupus       OTLUP  \n",
       "63300              Cancer                       NaN       RENAL  "
      ]
     },
     "execution_count": 5,
     "metadata": {},
     "output_type": "execute_result"
    }
   ],
   "source": [
    "# Look at the papers with missing titles\n",
    "merged_df[merged_df.Title.isnull()]"
   ]
  },
  {
   "attachments": {},
   "cell_type": "markdown",
   "metadata": {},
   "source": [
    "It seems like there are some of the abstract there are not extracted correctly.\n",
    "They all starts with \"[Data extracted from this article was imported...\"."
   ]
  },
  {
   "cell_type": "code",
   "execution_count": 6,
   "metadata": {},
   "outputs": [
    {
     "name": "stdout",
     "output_type": "stream",
     "text": [
      "Number of rows before filtering: 67457\n",
      "Number of rows after filtering: 67403\n",
      "Difference: 54\n"
     ]
    }
   ],
   "source": [
    "# Create a boolean mask for rows where the abstract starts with the specified string\n",
    "mask = merged_df['Abstract'].str.startswith(\"[Data extracted from this article was imported\")\n",
    "\n",
    "# Filter out these rows\n",
    "filtered_df = merged_df[~mask]\n",
    "\n",
    "# Check the number of rows before and after filtering\n",
    "print(f\"Number of rows before filtering: {len(merged_df)}\")\n",
    "print(f\"Number of rows after filtering: {len(filtered_df)}\")\n",
    "print(f\"Difference: {len(merged_df) - len(filtered_df)}\")\n"
   ]
  },
  {
   "cell_type": "code",
   "execution_count": 7,
   "metadata": {},
   "outputs": [
    {
     "name": "stdout",
     "output_type": "stream",
     "text": [
      "Missing Values:\n",
      " PubMed_ID           0\n",
      "Title               4\n",
      "Abstract            0\n",
      "SubType             0\n",
      "Class             487\n",
      "Category        16265\n",
      "Subcategory       487\n",
      "Abbreviation      487\n",
      "OK                487\n",
      "class             487\n",
      "category        16265\n",
      "subcategory       487\n",
      "dtype: int64\n"
     ]
    }
   ],
   "source": [
    "missing_values = filtered_df.isnull().sum()\n",
    "print(\"Missing Values:\\n\", missing_values)"
   ]
  },
  {
   "cell_type": "code",
   "execution_count": 8,
   "metadata": {},
   "outputs": [
    {
     "name": "stdout",
     "output_type": "stream",
     "text": [
      "Number of rows after dropping NAs in target: 66916\n",
      "Number of rows in train dataset: 46841\n",
      "Number of rows in validation dataset: 10037\n",
      "Number of rows in test dataset: 10038\n"
     ]
    }
   ],
   "source": [
    "### Split the Data for the class variable\n",
    "target = \"class\"\n",
    "\n",
    "# Drop rows where 'class' is NA\n",
    "filtered_df = filtered_df.dropna(subset=[target])\n",
    "\n",
    "# Check the number of rows after dropping\n",
    "print(f\"Number of rows after dropping NAs in target: {len(filtered_df)}\")\n",
    "\n",
    "# Split the data into train and a temporary dataset (70% train, 30% temp)\n",
    "train_df, temp_df = train_test_split(filtered_df, test_size=0.3, random_state=42, stratify=filtered_df[target])\n",
    "\n",
    "# Split the temporary dataset into validation and test datasets (50% validation, 50% test from the temp dataset)\n",
    "eval_df, test_df = train_test_split(temp_df, test_size=0.5, random_state=42, stratify=temp_df[target])\n",
    "\n",
    "# Initialize the label encoder\n",
    "label_encoder = LabelEncoder()\n",
    "\n",
    "# Transform class label from string to integers\n",
    "# Fit the encoder on the 'class' column and transform it\n",
    "train_df['target_int'] = label_encoder.fit_transform(train_df[target])\n",
    "eval_df['target_int'] = label_encoder.transform(eval_df[target])\n",
    "test_df['target_int'] = label_encoder.transform(test_df[target])\n",
    "\n",
    "\n",
    "# Check the number of rows in each dataset\n",
    "print(f\"Number of rows in train dataset: {len(train_df)}\")\n",
    "print(f\"Number of rows in validation dataset: {len(eval_df)}\")\n",
    "print(f\"Number of rows in test dataset: {len(test_df)}\")"
   ]
  },
  {
   "cell_type": "code",
   "execution_count": 9,
   "metadata": {},
   "outputs": [
    {
     "name": "stdout",
     "output_type": "stream",
     "text": [
      "Number of documents from each class in train dataset:\n",
      " class\n",
      "Infectious_Disease    19219\n",
      "Other                  8058\n",
      "Autoimm                7817\n",
      "Cancer                 7670\n",
      "Allergen               2813\n",
      "Transplant             1264\n",
      "Name: count, dtype: int64\n",
      "\n",
      "Number of documents from each class in validation dataset:\n",
      " class\n",
      "Infectious_Disease    4118\n",
      "Other                 1727\n",
      "Autoimm               1675\n",
      "Cancer                1643\n",
      "Allergen               603\n",
      "Transplant             271\n",
      "Name: count, dtype: int64\n",
      "\n",
      "Number of documents from each class in test dataset:\n",
      " class\n",
      "Infectious_Disease    4119\n",
      "Other                 1727\n",
      "Autoimm               1675\n",
      "Cancer                1644\n",
      "Allergen               603\n",
      "Transplant             270\n",
      "Name: count, dtype: int64\n"
     ]
    }
   ],
   "source": [
    "# Check the number of documents from each class in the train dataset\n",
    "train_class_counts = train_df[target].value_counts()\n",
    "\n",
    "# Check the number of documents from each class in the validation dataset\n",
    "valid_class_counts = eval_df[target].value_counts()\n",
    "\n",
    "# Check the number of documents from each class in the test dataset\n",
    "test_class_counts = test_df[target].value_counts()\n",
    "\n",
    "print(\"Number of documents from each class in train dataset:\\n\", train_class_counts)\n",
    "print(\"\\nNumber of documents from each class in validation dataset:\\n\", valid_class_counts)\n",
    "print(\"\\nNumber of documents from each class in test dataset:\\n\", test_class_counts)"
   ]
  },
  {
   "attachments": {},
   "cell_type": "markdown",
   "metadata": {},
   "source": [
    "### Fine-tune the BioBert transformer model"
   ]
  },
  {
   "cell_type": "code",
   "execution_count": 10,
   "metadata": {},
   "outputs": [
    {
     "name": "stderr",
     "output_type": "stream",
     "text": [
      "Some weights of BertForSequenceClassification were not initialized from the model checkpoint at dmis-lab/biobert-base-cased-v1.2 and are newly initialized: ['classifier.bias', 'classifier.weight']\n",
      "You should probably TRAIN this model on a down-stream task to be able to use it for predictions and inference.\n"
     ]
    }
   ],
   "source": [
    "# Load BioBERT and tokenizer\n",
    "model_name = \"dmis-lab/biobert-base-cased-v1.2\"\n",
    "tokenizer = BertTokenizer.from_pretrained(model_name)\n",
    "num_labels = len(train_df['target_int'].unique())\n",
    "model = BertForSequenceClassification.from_pretrained(model_name, num_labels=num_labels)\n",
    "\n",
    "# 1. Tokenization\n",
    "data_size = 1000\n",
    "train_abstract = train_df['Abstract'].tolist()[1:data_size]\n",
    "eval_abstract = eval_df['Abstract'].tolist()[1:data_size]\n",
    "tokenized_train = tokenizer(train_abstract, padding=True, truncation=True, return_tensors=\"pt\", max_length=512)\n",
    "tokenized_eval = tokenizer(eval_abstract, padding=True, truncation=True, return_tensors=\"pt\", max_length=512)"
   ]
  },
  {
   "cell_type": "code",
   "execution_count": 11,
   "metadata": {},
   "outputs": [],
   "source": [
    "class CustomDataset(Dataset):\n",
    "    def __init__(self, encodings, labels):\n",
    "        self.encodings = encodings\n",
    "        self.labels = labels\n",
    "\n",
    "    def __getitem__(self, idx):\n",
    "        item = {key: val[idx].clone().detach() for key, val in self.encodings.items()}\n",
    "        item['labels'] = torch.tensor(self.labels[idx])\n",
    "        return item\n",
    "\n",
    "    def __len__(self):\n",
    "        return len(self.labels)\n",
    "\n",
    "\n",
    "# Convert tokenized data to PyTorch dataset\n",
    "train_labels = train_df['target_int'].tolist()[1:data_size]\n",
    "eval_labels = eval_df[\"target_int\"].tolist()[1:data_size]\n",
    "train_dataset = CustomDataset(encodings = tokenized_train, labels = train_labels)\n",
    "eval_dataset = CustomDataset(encodings = tokenized_eval, labels = eval_labels)\n",
    "\n",
    "# Create DataLoader\n",
    "train_dataloader = DataLoader(train_dataset, shuffle=True, batch_size=8)\n",
    "eval_dataloader = DataLoader(eval_dataset, batch_size=8)\n"
   ]
  },
  {
   "cell_type": "code",
   "execution_count": 12,
   "metadata": {},
   "outputs": [
    {
     "name": "stderr",
     "output_type": "stream",
     "text": [
      "  1%|          | 1/125 [00:09<19:00,  9.20s/it]"
     ]
    },
    {
     "name": "stdout",
     "output_type": "stream",
     "text": [
      "Batch Loss: 2.0424\n"
     ]
    },
    {
     "name": "stderr",
     "output_type": "stream",
     "text": [
      "  2%|▏         | 2/125 [00:18<18:41,  9.12s/it]"
     ]
    },
    {
     "name": "stdout",
     "output_type": "stream",
     "text": [
      "Batch Loss: 1.8039\n"
     ]
    },
    {
     "name": "stderr",
     "output_type": "stream",
     "text": [
      "  2%|▏         | 3/125 [00:26<17:46,  8.74s/it]"
     ]
    },
    {
     "name": "stdout",
     "output_type": "stream",
     "text": [
      "Batch Loss: 1.9148\n"
     ]
    },
    {
     "name": "stderr",
     "output_type": "stream",
     "text": [
      "  3%|▎         | 4/125 [00:35<17:24,  8.64s/it]"
     ]
    },
    {
     "name": "stdout",
     "output_type": "stream",
     "text": [
      "Batch Loss: 1.8323\n"
     ]
    },
    {
     "name": "stderr",
     "output_type": "stream",
     "text": [
      "  4%|▍         | 5/125 [00:43<17:05,  8.55s/it]"
     ]
    },
    {
     "name": "stdout",
     "output_type": "stream",
     "text": [
      "Batch Loss: 1.8816\n"
     ]
    },
    {
     "name": "stderr",
     "output_type": "stream",
     "text": [
      "  5%|▍         | 6/125 [00:51<16:54,  8.52s/it]"
     ]
    },
    {
     "name": "stdout",
     "output_type": "stream",
     "text": [
      "Batch Loss: 1.6238\n"
     ]
    },
    {
     "name": "stderr",
     "output_type": "stream",
     "text": [
      "  6%|▌         | 7/125 [01:00<16:36,  8.45s/it]"
     ]
    },
    {
     "name": "stdout",
     "output_type": "stream",
     "text": [
      "Batch Loss: 1.5637\n"
     ]
    },
    {
     "name": "stderr",
     "output_type": "stream",
     "text": [
      "  6%|▋         | 8/125 [01:08<16:28,  8.45s/it]"
     ]
    },
    {
     "name": "stdout",
     "output_type": "stream",
     "text": [
      "Batch Loss: 1.6143\n"
     ]
    },
    {
     "name": "stderr",
     "output_type": "stream",
     "text": [
      "  7%|▋         | 9/125 [01:17<16:24,  8.48s/it]"
     ]
    },
    {
     "name": "stdout",
     "output_type": "stream",
     "text": [
      "Batch Loss: 1.7581\n"
     ]
    },
    {
     "name": "stderr",
     "output_type": "stream",
     "text": [
      "  8%|▊         | 10/125 [01:25<15:57,  8.32s/it]"
     ]
    },
    {
     "name": "stdout",
     "output_type": "stream",
     "text": [
      "Batch Loss: 1.4491\n"
     ]
    },
    {
     "name": "stderr",
     "output_type": "stream",
     "text": [
      "  9%|▉         | 11/125 [01:33<15:42,  8.27s/it]"
     ]
    },
    {
     "name": "stdout",
     "output_type": "stream",
     "text": [
      "Batch Loss: 1.5529\n"
     ]
    },
    {
     "name": "stderr",
     "output_type": "stream",
     "text": [
      " 10%|▉         | 12/125 [01:41<15:41,  8.33s/it]"
     ]
    },
    {
     "name": "stdout",
     "output_type": "stream",
     "text": [
      "Batch Loss: 1.8366\n"
     ]
    },
    {
     "name": "stderr",
     "output_type": "stream",
     "text": [
      " 10%|█         | 13/125 [01:49<15:29,  8.30s/it]"
     ]
    },
    {
     "name": "stdout",
     "output_type": "stream",
     "text": [
      "Batch Loss: 1.6233\n"
     ]
    },
    {
     "name": "stderr",
     "output_type": "stream",
     "text": [
      " 11%|█         | 14/125 [01:58<15:36,  8.43s/it]"
     ]
    },
    {
     "name": "stdout",
     "output_type": "stream",
     "text": [
      "Batch Loss: 1.6266\n"
     ]
    },
    {
     "name": "stderr",
     "output_type": "stream",
     "text": [
      " 12%|█▏        | 15/125 [02:07<15:40,  8.55s/it]"
     ]
    },
    {
     "name": "stdout",
     "output_type": "stream",
     "text": [
      "Batch Loss: 1.4607\n"
     ]
    },
    {
     "name": "stderr",
     "output_type": "stream",
     "text": [
      " 13%|█▎        | 16/125 [02:16<15:33,  8.56s/it]"
     ]
    },
    {
     "name": "stdout",
     "output_type": "stream",
     "text": [
      "Batch Loss: 1.7762\n"
     ]
    },
    {
     "name": "stderr",
     "output_type": "stream",
     "text": [
      " 14%|█▎        | 17/125 [02:24<15:14,  8.46s/it]"
     ]
    },
    {
     "name": "stdout",
     "output_type": "stream",
     "text": [
      "Batch Loss: 1.2854\n"
     ]
    },
    {
     "name": "stderr",
     "output_type": "stream",
     "text": [
      " 14%|█▍        | 18/125 [02:33<15:10,  8.51s/it]"
     ]
    },
    {
     "name": "stdout",
     "output_type": "stream",
     "text": [
      "Batch Loss: 1.4173\n"
     ]
    },
    {
     "name": "stderr",
     "output_type": "stream",
     "text": [
      " 15%|█▌        | 19/125 [02:41<14:47,  8.38s/it]"
     ]
    },
    {
     "name": "stdout",
     "output_type": "stream",
     "text": [
      "Batch Loss: 1.1678\n"
     ]
    },
    {
     "name": "stderr",
     "output_type": "stream",
     "text": [
      " 16%|█▌        | 20/125 [02:49<14:41,  8.39s/it]"
     ]
    },
    {
     "name": "stdout",
     "output_type": "stream",
     "text": [
      "Batch Loss: 1.3034\n"
     ]
    },
    {
     "name": "stderr",
     "output_type": "stream",
     "text": [
      " 17%|█▋        | 21/125 [02:57<14:31,  8.38s/it]"
     ]
    },
    {
     "name": "stdout",
     "output_type": "stream",
     "text": [
      "Batch Loss: 1.1117\n"
     ]
    },
    {
     "name": "stderr",
     "output_type": "stream",
     "text": [
      " 18%|█▊        | 22/125 [03:06<14:18,  8.34s/it]"
     ]
    },
    {
     "name": "stdout",
     "output_type": "stream",
     "text": [
      "Batch Loss: 2.7434\n"
     ]
    },
    {
     "name": "stderr",
     "output_type": "stream",
     "text": [
      " 18%|█▊        | 23/125 [03:14<13:59,  8.23s/it]"
     ]
    },
    {
     "name": "stdout",
     "output_type": "stream",
     "text": [
      "Batch Loss: 1.5694\n"
     ]
    },
    {
     "name": "stderr",
     "output_type": "stream",
     "text": [
      " 19%|█▉        | 24/125 [03:22<13:52,  8.24s/it]"
     ]
    },
    {
     "name": "stdout",
     "output_type": "stream",
     "text": [
      "Batch Loss: 1.3265\n"
     ]
    },
    {
     "name": "stderr",
     "output_type": "stream",
     "text": [
      " 20%|██        | 25/125 [03:30<13:50,  8.31s/it]"
     ]
    },
    {
     "name": "stdout",
     "output_type": "stream",
     "text": [
      "Batch Loss: 1.7486\n"
     ]
    },
    {
     "name": "stderr",
     "output_type": "stream",
     "text": [
      " 21%|██        | 26/125 [03:38<13:39,  8.27s/it]"
     ]
    },
    {
     "name": "stdout",
     "output_type": "stream",
     "text": [
      "Batch Loss: 1.7363\n"
     ]
    },
    {
     "name": "stderr",
     "output_type": "stream",
     "text": [
      " 22%|██▏       | 27/125 [03:47<13:41,  8.38s/it]"
     ]
    },
    {
     "name": "stdout",
     "output_type": "stream",
     "text": [
      "Batch Loss: 1.2916\n"
     ]
    },
    {
     "name": "stderr",
     "output_type": "stream",
     "text": [
      " 22%|██▏       | 28/125 [03:55<13:28,  8.33s/it]"
     ]
    },
    {
     "name": "stdout",
     "output_type": "stream",
     "text": [
      "Batch Loss: 1.0593\n"
     ]
    },
    {
     "name": "stderr",
     "output_type": "stream",
     "text": [
      " 23%|██▎       | 29/125 [04:04<13:20,  8.34s/it]"
     ]
    },
    {
     "name": "stdout",
     "output_type": "stream",
     "text": [
      "Batch Loss: 1.8269\n"
     ]
    },
    {
     "name": "stderr",
     "output_type": "stream",
     "text": [
      " 24%|██▍       | 30/125 [04:12<13:02,  8.24s/it]"
     ]
    },
    {
     "name": "stdout",
     "output_type": "stream",
     "text": [
      "Batch Loss: 1.3618\n"
     ]
    },
    {
     "name": "stderr",
     "output_type": "stream",
     "text": [
      " 25%|██▍       | 31/125 [04:20<12:50,  8.20s/it]"
     ]
    },
    {
     "name": "stdout",
     "output_type": "stream",
     "text": [
      "Batch Loss: 2.1450\n"
     ]
    },
    {
     "name": "stderr",
     "output_type": "stream",
     "text": [
      " 26%|██▌       | 32/125 [04:28<12:47,  8.25s/it]"
     ]
    },
    {
     "name": "stdout",
     "output_type": "stream",
     "text": [
      "Batch Loss: 1.4635\n"
     ]
    },
    {
     "name": "stderr",
     "output_type": "stream",
     "text": [
      " 26%|██▋       | 33/125 [04:36<12:35,  8.22s/it]"
     ]
    },
    {
     "name": "stdout",
     "output_type": "stream",
     "text": [
      "Batch Loss: 1.4501\n"
     ]
    },
    {
     "name": "stderr",
     "output_type": "stream",
     "text": [
      " 27%|██▋       | 34/125 [04:44<12:21,  8.14s/it]"
     ]
    },
    {
     "name": "stdout",
     "output_type": "stream",
     "text": [
      "Batch Loss: 1.6320\n"
     ]
    },
    {
     "name": "stderr",
     "output_type": "stream",
     "text": [
      " 28%|██▊       | 35/125 [04:52<12:03,  8.04s/it]"
     ]
    },
    {
     "name": "stdout",
     "output_type": "stream",
     "text": [
      "Batch Loss: 1.8728\n"
     ]
    },
    {
     "name": "stderr",
     "output_type": "stream",
     "text": [
      " 29%|██▉       | 36/125 [05:00<11:52,  8.00s/it]"
     ]
    },
    {
     "name": "stdout",
     "output_type": "stream",
     "text": [
      "Batch Loss: 1.4057\n"
     ]
    },
    {
     "name": "stderr",
     "output_type": "stream",
     "text": [
      " 30%|██▉       | 37/125 [05:08<11:43,  7.99s/it]"
     ]
    },
    {
     "name": "stdout",
     "output_type": "stream",
     "text": [
      "Batch Loss: 1.3812\n"
     ]
    },
    {
     "name": "stderr",
     "output_type": "stream",
     "text": [
      " 30%|███       | 38/125 [05:16<11:42,  8.08s/it]"
     ]
    },
    {
     "name": "stdout",
     "output_type": "stream",
     "text": [
      "Batch Loss: 2.0046\n"
     ]
    },
    {
     "name": "stderr",
     "output_type": "stream",
     "text": [
      " 31%|███       | 39/125 [05:24<11:30,  8.03s/it]"
     ]
    },
    {
     "name": "stdout",
     "output_type": "stream",
     "text": [
      "Batch Loss: 1.3562\n"
     ]
    },
    {
     "name": "stderr",
     "output_type": "stream",
     "text": [
      " 32%|███▏      | 40/125 [05:32<11:14,  7.93s/it]"
     ]
    },
    {
     "name": "stdout",
     "output_type": "stream",
     "text": [
      "Batch Loss: 1.7000\n"
     ]
    },
    {
     "name": "stderr",
     "output_type": "stream",
     "text": [
      " 33%|███▎      | 41/125 [05:40<11:01,  7.88s/it]"
     ]
    },
    {
     "name": "stdout",
     "output_type": "stream",
     "text": [
      "Batch Loss: 1.5811\n"
     ]
    },
    {
     "name": "stderr",
     "output_type": "stream",
     "text": [
      " 34%|███▎      | 42/125 [05:48<10:59,  7.95s/it]"
     ]
    },
    {
     "name": "stdout",
     "output_type": "stream",
     "text": [
      "Batch Loss: 1.4164\n"
     ]
    },
    {
     "name": "stderr",
     "output_type": "stream",
     "text": [
      " 34%|███▍      | 43/125 [05:56<10:54,  7.99s/it]"
     ]
    },
    {
     "name": "stdout",
     "output_type": "stream",
     "text": [
      "Batch Loss: 1.6210\n"
     ]
    },
    {
     "name": "stderr",
     "output_type": "stream",
     "text": [
      " 35%|███▌      | 44/125 [06:04<10:46,  7.98s/it]"
     ]
    },
    {
     "name": "stdout",
     "output_type": "stream",
     "text": [
      "Batch Loss: 2.0627\n"
     ]
    },
    {
     "name": "stderr",
     "output_type": "stream",
     "text": [
      " 36%|███▌      | 45/125 [06:12<10:42,  8.03s/it]"
     ]
    },
    {
     "name": "stdout",
     "output_type": "stream",
     "text": [
      "Batch Loss: 1.7496\n"
     ]
    },
    {
     "name": "stderr",
     "output_type": "stream",
     "text": [
      " 37%|███▋      | 46/125 [06:20<10:36,  8.06s/it]"
     ]
    },
    {
     "name": "stdout",
     "output_type": "stream",
     "text": [
      "Batch Loss: 1.4549\n"
     ]
    },
    {
     "name": "stderr",
     "output_type": "stream",
     "text": [
      " 38%|███▊      | 47/125 [06:28<10:26,  8.03s/it]"
     ]
    },
    {
     "name": "stdout",
     "output_type": "stream",
     "text": [
      "Batch Loss: 1.5633\n"
     ]
    },
    {
     "name": "stderr",
     "output_type": "stream",
     "text": [
      " 38%|███▊      | 48/125 [06:36<10:13,  7.97s/it]"
     ]
    },
    {
     "name": "stdout",
     "output_type": "stream",
     "text": [
      "Batch Loss: 1.4559\n"
     ]
    },
    {
     "name": "stderr",
     "output_type": "stream",
     "text": [
      " 39%|███▉      | 49/125 [06:44<10:00,  7.90s/it]"
     ]
    },
    {
     "name": "stdout",
     "output_type": "stream",
     "text": [
      "Batch Loss: 1.6856\n"
     ]
    },
    {
     "name": "stderr",
     "output_type": "stream",
     "text": [
      " 40%|████      | 50/125 [06:51<09:48,  7.85s/it]"
     ]
    },
    {
     "name": "stdout",
     "output_type": "stream",
     "text": [
      "Batch Loss: 1.3961\n"
     ]
    },
    {
     "name": "stderr",
     "output_type": "stream",
     "text": [
      " 41%|████      | 51/125 [06:59<09:35,  7.78s/it]"
     ]
    },
    {
     "name": "stdout",
     "output_type": "stream",
     "text": [
      "Batch Loss: 1.6483\n"
     ]
    },
    {
     "name": "stderr",
     "output_type": "stream",
     "text": [
      " 42%|████▏     | 52/125 [07:07<09:30,  7.81s/it]"
     ]
    },
    {
     "name": "stdout",
     "output_type": "stream",
     "text": [
      "Batch Loss: 1.2325\n"
     ]
    },
    {
     "name": "stderr",
     "output_type": "stream",
     "text": [
      " 42%|████▏     | 53/125 [07:15<09:19,  7.78s/it]"
     ]
    },
    {
     "name": "stdout",
     "output_type": "stream",
     "text": [
      "Batch Loss: 1.6874\n"
     ]
    },
    {
     "name": "stderr",
     "output_type": "stream",
     "text": [
      " 43%|████▎     | 54/125 [07:22<09:13,  7.79s/it]"
     ]
    },
    {
     "name": "stdout",
     "output_type": "stream",
     "text": [
      "Batch Loss: 0.9441\n"
     ]
    },
    {
     "name": "stderr",
     "output_type": "stream",
     "text": [
      " 44%|████▍     | 55/125 [07:30<09:06,  7.81s/it]"
     ]
    },
    {
     "name": "stdout",
     "output_type": "stream",
     "text": [
      "Batch Loss: 0.9790\n"
     ]
    },
    {
     "name": "stderr",
     "output_type": "stream",
     "text": [
      " 45%|████▍     | 56/125 [07:38<08:59,  7.82s/it]"
     ]
    },
    {
     "name": "stdout",
     "output_type": "stream",
     "text": [
      "Batch Loss: 1.1909\n"
     ]
    },
    {
     "name": "stderr",
     "output_type": "stream",
     "text": [
      " 46%|████▌     | 57/125 [07:46<08:49,  7.79s/it]"
     ]
    },
    {
     "name": "stdout",
     "output_type": "stream",
     "text": [
      "Batch Loss: 1.4189\n"
     ]
    },
    {
     "name": "stderr",
     "output_type": "stream",
     "text": [
      " 46%|████▋     | 58/125 [07:54<08:42,  7.80s/it]"
     ]
    },
    {
     "name": "stdout",
     "output_type": "stream",
     "text": [
      "Batch Loss: 0.7816\n"
     ]
    },
    {
     "name": "stderr",
     "output_type": "stream",
     "text": [
      " 47%|████▋     | 59/125 [08:01<08:37,  7.83s/it]"
     ]
    },
    {
     "name": "stdout",
     "output_type": "stream",
     "text": [
      "Batch Loss: 1.0767\n"
     ]
    },
    {
     "name": "stderr",
     "output_type": "stream",
     "text": [
      " 48%|████▊     | 60/125 [08:10<08:35,  7.93s/it]"
     ]
    },
    {
     "name": "stdout",
     "output_type": "stream",
     "text": [
      "Batch Loss: 1.1077\n"
     ]
    },
    {
     "name": "stderr",
     "output_type": "stream",
     "text": [
      " 49%|████▉     | 61/125 [08:17<08:24,  7.88s/it]"
     ]
    },
    {
     "name": "stdout",
     "output_type": "stream",
     "text": [
      "Batch Loss: 1.0033\n"
     ]
    },
    {
     "name": "stderr",
     "output_type": "stream",
     "text": [
      " 50%|████▉     | 62/125 [08:26<08:30,  8.10s/it]"
     ]
    },
    {
     "name": "stdout",
     "output_type": "stream",
     "text": [
      "Batch Loss: 1.0886\n"
     ]
    },
    {
     "name": "stderr",
     "output_type": "stream",
     "text": [
      " 50%|█████     | 63/125 [08:34<08:20,  8.07s/it]"
     ]
    },
    {
     "name": "stdout",
     "output_type": "stream",
     "text": [
      "Batch Loss: 0.9750\n"
     ]
    },
    {
     "name": "stderr",
     "output_type": "stream",
     "text": [
      " 51%|█████     | 64/125 [08:42<08:13,  8.08s/it]"
     ]
    },
    {
     "name": "stdout",
     "output_type": "stream",
     "text": [
      "Batch Loss: 1.2042\n"
     ]
    },
    {
     "name": "stderr",
     "output_type": "stream",
     "text": [
      " 52%|█████▏    | 65/125 [08:50<08:08,  8.14s/it]"
     ]
    },
    {
     "name": "stdout",
     "output_type": "stream",
     "text": [
      "Batch Loss: 0.7238\n"
     ]
    },
    {
     "name": "stderr",
     "output_type": "stream",
     "text": [
      " 53%|█████▎    | 66/125 [08:59<08:01,  8.16s/it]"
     ]
    },
    {
     "name": "stdout",
     "output_type": "stream",
     "text": [
      "Batch Loss: 0.6524\n"
     ]
    },
    {
     "name": "stderr",
     "output_type": "stream",
     "text": [
      " 54%|█████▎    | 67/125 [09:07<07:52,  8.15s/it]"
     ]
    },
    {
     "name": "stdout",
     "output_type": "stream",
     "text": [
      "Batch Loss: 1.0844\n"
     ]
    },
    {
     "name": "stderr",
     "output_type": "stream",
     "text": [
      " 54%|█████▍    | 68/125 [09:15<07:38,  8.05s/it]"
     ]
    },
    {
     "name": "stdout",
     "output_type": "stream",
     "text": [
      "Batch Loss: 1.7141\n"
     ]
    },
    {
     "name": "stderr",
     "output_type": "stream",
     "text": [
      " 55%|█████▌    | 69/125 [09:23<07:32,  8.08s/it]"
     ]
    },
    {
     "name": "stdout",
     "output_type": "stream",
     "text": [
      "Batch Loss: 0.9861\n"
     ]
    },
    {
     "name": "stderr",
     "output_type": "stream",
     "text": [
      " 56%|█████▌    | 70/125 [09:31<07:22,  8.04s/it]"
     ]
    },
    {
     "name": "stdout",
     "output_type": "stream",
     "text": [
      "Batch Loss: 1.4713\n"
     ]
    },
    {
     "name": "stderr",
     "output_type": "stream",
     "text": [
      " 57%|█████▋    | 71/125 [09:39<07:14,  8.04s/it]"
     ]
    },
    {
     "name": "stdout",
     "output_type": "stream",
     "text": [
      "Batch Loss: 0.6846\n"
     ]
    },
    {
     "name": "stderr",
     "output_type": "stream",
     "text": [
      " 58%|█████▊    | 72/125 [09:47<07:08,  8.09s/it]"
     ]
    },
    {
     "name": "stdout",
     "output_type": "stream",
     "text": [
      "Batch Loss: 1.1904\n"
     ]
    },
    {
     "name": "stderr",
     "output_type": "stream",
     "text": [
      " 58%|█████▊    | 73/125 [09:55<06:59,  8.08s/it]"
     ]
    },
    {
     "name": "stdout",
     "output_type": "stream",
     "text": [
      "Batch Loss: 0.8418\n"
     ]
    },
    {
     "name": "stderr",
     "output_type": "stream",
     "text": [
      " 59%|█████▉    | 74/125 [10:03<06:54,  8.12s/it]"
     ]
    },
    {
     "name": "stdout",
     "output_type": "stream",
     "text": [
      "Batch Loss: 1.8546\n"
     ]
    },
    {
     "name": "stderr",
     "output_type": "stream",
     "text": [
      " 60%|██████    | 75/125 [10:11<06:43,  8.06s/it]"
     ]
    },
    {
     "name": "stdout",
     "output_type": "stream",
     "text": [
      "Batch Loss: 0.4671\n"
     ]
    },
    {
     "name": "stderr",
     "output_type": "stream",
     "text": [
      " 61%|██████    | 76/125 [10:19<06:31,  7.99s/it]"
     ]
    },
    {
     "name": "stdout",
     "output_type": "stream",
     "text": [
      "Batch Loss: 0.8564\n"
     ]
    },
    {
     "name": "stderr",
     "output_type": "stream",
     "text": [
      " 62%|██████▏   | 77/125 [10:27<06:24,  8.02s/it]"
     ]
    },
    {
     "name": "stdout",
     "output_type": "stream",
     "text": [
      "Batch Loss: 0.9505\n"
     ]
    },
    {
     "name": "stderr",
     "output_type": "stream",
     "text": [
      " 62%|██████▏   | 78/125 [10:35<06:20,  8.09s/it]"
     ]
    },
    {
     "name": "stdout",
     "output_type": "stream",
     "text": [
      "Batch Loss: 0.9791\n"
     ]
    },
    {
     "name": "stderr",
     "output_type": "stream",
     "text": [
      " 63%|██████▎   | 79/125 [10:43<06:08,  8.00s/it]"
     ]
    },
    {
     "name": "stdout",
     "output_type": "stream",
     "text": [
      "Batch Loss: 0.4748\n"
     ]
    },
    {
     "name": "stderr",
     "output_type": "stream",
     "text": [
      " 64%|██████▍   | 80/125 [10:51<06:05,  8.12s/it]"
     ]
    },
    {
     "name": "stdout",
     "output_type": "stream",
     "text": [
      "Batch Loss: 0.4736\n"
     ]
    },
    {
     "name": "stderr",
     "output_type": "stream",
     "text": [
      " 65%|██████▍   | 81/125 [11:00<06:01,  8.21s/it]"
     ]
    },
    {
     "name": "stdout",
     "output_type": "stream",
     "text": [
      "Batch Loss: 0.9200\n"
     ]
    },
    {
     "name": "stderr",
     "output_type": "stream",
     "text": [
      " 66%|██████▌   | 82/125 [11:08<05:52,  8.19s/it]"
     ]
    },
    {
     "name": "stdout",
     "output_type": "stream",
     "text": [
      "Batch Loss: 0.6412\n"
     ]
    },
    {
     "name": "stderr",
     "output_type": "stream",
     "text": [
      " 66%|██████▋   | 83/125 [11:16<05:42,  8.16s/it]"
     ]
    },
    {
     "name": "stdout",
     "output_type": "stream",
     "text": [
      "Batch Loss: 0.9271\n"
     ]
    },
    {
     "name": "stderr",
     "output_type": "stream",
     "text": [
      " 67%|██████▋   | 84/125 [11:24<05:36,  8.22s/it]"
     ]
    },
    {
     "name": "stdout",
     "output_type": "stream",
     "text": [
      "Batch Loss: 0.8709\n"
     ]
    },
    {
     "name": "stderr",
     "output_type": "stream",
     "text": [
      " 68%|██████▊   | 85/125 [11:33<05:32,  8.32s/it]"
     ]
    },
    {
     "name": "stdout",
     "output_type": "stream",
     "text": [
      "Batch Loss: 0.5771\n"
     ]
    },
    {
     "name": "stderr",
     "output_type": "stream",
     "text": [
      " 69%|██████▉   | 86/125 [11:41<05:21,  8.25s/it]"
     ]
    },
    {
     "name": "stdout",
     "output_type": "stream",
     "text": [
      "Batch Loss: 0.6518\n"
     ]
    },
    {
     "name": "stderr",
     "output_type": "stream",
     "text": [
      " 70%|██████▉   | 87/125 [11:49<05:11,  8.20s/it]"
     ]
    },
    {
     "name": "stdout",
     "output_type": "stream",
     "text": [
      "Batch Loss: 0.7660\n"
     ]
    },
    {
     "name": "stderr",
     "output_type": "stream",
     "text": [
      " 70%|███████   | 88/125 [11:57<05:01,  8.16s/it]"
     ]
    },
    {
     "name": "stdout",
     "output_type": "stream",
     "text": [
      "Batch Loss: 0.6133\n"
     ]
    },
    {
     "name": "stderr",
     "output_type": "stream",
     "text": [
      " 71%|███████   | 89/125 [12:06<04:56,  8.22s/it]"
     ]
    },
    {
     "name": "stdout",
     "output_type": "stream",
     "text": [
      "Batch Loss: 1.1072\n"
     ]
    },
    {
     "name": "stderr",
     "output_type": "stream",
     "text": [
      " 72%|███████▏  | 90/125 [12:14<04:46,  8.19s/it]"
     ]
    },
    {
     "name": "stdout",
     "output_type": "stream",
     "text": [
      "Batch Loss: 0.8627\n"
     ]
    },
    {
     "name": "stderr",
     "output_type": "stream",
     "text": [
      " 73%|███████▎  | 91/125 [12:22<04:38,  8.20s/it]"
     ]
    },
    {
     "name": "stdout",
     "output_type": "stream",
     "text": [
      "Batch Loss: 0.5940\n"
     ]
    },
    {
     "name": "stderr",
     "output_type": "stream",
     "text": [
      " 74%|███████▎  | 92/125 [12:30<04:26,  8.09s/it]"
     ]
    },
    {
     "name": "stdout",
     "output_type": "stream",
     "text": [
      "Batch Loss: 0.7092\n"
     ]
    },
    {
     "name": "stderr",
     "output_type": "stream",
     "text": [
      " 74%|███████▍  | 93/125 [12:37<04:09,  7.80s/it]"
     ]
    },
    {
     "name": "stdout",
     "output_type": "stream",
     "text": [
      "Batch Loss: 0.9613\n"
     ]
    },
    {
     "name": "stderr",
     "output_type": "stream",
     "text": [
      " 75%|███████▌  | 94/125 [12:44<03:57,  7.67s/it]"
     ]
    },
    {
     "name": "stdout",
     "output_type": "stream",
     "text": [
      "Batch Loss: 0.8263\n"
     ]
    },
    {
     "name": "stderr",
     "output_type": "stream",
     "text": [
      " 76%|███████▌  | 95/125 [12:51<03:45,  7.51s/it]"
     ]
    },
    {
     "name": "stdout",
     "output_type": "stream",
     "text": [
      "Batch Loss: 0.3745\n"
     ]
    },
    {
     "name": "stderr",
     "output_type": "stream",
     "text": [
      " 77%|███████▋  | 96/125 [12:58<03:31,  7.30s/it]"
     ]
    },
    {
     "name": "stdout",
     "output_type": "stream",
     "text": [
      "Batch Loss: 0.9070\n"
     ]
    },
    {
     "name": "stderr",
     "output_type": "stream",
     "text": [
      " 78%|███████▊  | 97/125 [13:05<03:18,  7.10s/it]"
     ]
    },
    {
     "name": "stdout",
     "output_type": "stream",
     "text": [
      "Batch Loss: 0.9641\n"
     ]
    },
    {
     "name": "stderr",
     "output_type": "stream",
     "text": [
      " 78%|███████▊  | 98/125 [13:12<03:09,  7.02s/it]"
     ]
    },
    {
     "name": "stdout",
     "output_type": "stream",
     "text": [
      "Batch Loss: 0.7027\n"
     ]
    },
    {
     "name": "stderr",
     "output_type": "stream",
     "text": [
      " 79%|███████▉  | 99/125 [13:18<03:00,  6.95s/it]"
     ]
    },
    {
     "name": "stdout",
     "output_type": "stream",
     "text": [
      "Batch Loss: 0.5828\n"
     ]
    },
    {
     "name": "stderr",
     "output_type": "stream",
     "text": [
      " 80%|████████  | 100/125 [13:25<02:54,  6.96s/it]"
     ]
    },
    {
     "name": "stdout",
     "output_type": "stream",
     "text": [
      "Batch Loss: 0.7088\n"
     ]
    },
    {
     "name": "stderr",
     "output_type": "stream",
     "text": [
      " 81%|████████  | 101/125 [13:32<02:45,  6.91s/it]"
     ]
    },
    {
     "name": "stdout",
     "output_type": "stream",
     "text": [
      "Batch Loss: 0.4490\n"
     ]
    },
    {
     "name": "stderr",
     "output_type": "stream",
     "text": [
      " 82%|████████▏ | 102/125 [13:39<02:38,  6.90s/it]"
     ]
    },
    {
     "name": "stdout",
     "output_type": "stream",
     "text": [
      "Batch Loss: 0.7104\n"
     ]
    },
    {
     "name": "stderr",
     "output_type": "stream",
     "text": [
      " 82%|████████▏ | 103/125 [13:46<02:31,  6.86s/it]"
     ]
    },
    {
     "name": "stdout",
     "output_type": "stream",
     "text": [
      "Batch Loss: 0.2025\n"
     ]
    },
    {
     "name": "stderr",
     "output_type": "stream",
     "text": [
      " 83%|████████▎ | 104/125 [13:53<02:23,  6.81s/it]"
     ]
    },
    {
     "name": "stdout",
     "output_type": "stream",
     "text": [
      "Batch Loss: 0.8733\n"
     ]
    },
    {
     "name": "stderr",
     "output_type": "stream",
     "text": [
      " 84%|████████▍ | 105/125 [13:59<02:16,  6.81s/it]"
     ]
    },
    {
     "name": "stdout",
     "output_type": "stream",
     "text": [
      "Batch Loss: 0.8126\n"
     ]
    },
    {
     "name": "stderr",
     "output_type": "stream",
     "text": [
      " 85%|████████▍ | 106/125 [14:07<02:11,  6.92s/it]"
     ]
    },
    {
     "name": "stdout",
     "output_type": "stream",
     "text": [
      "Batch Loss: 0.5823\n"
     ]
    },
    {
     "name": "stderr",
     "output_type": "stream",
     "text": [
      " 86%|████████▌ | 107/125 [14:14<02:05,  7.00s/it]"
     ]
    },
    {
     "name": "stdout",
     "output_type": "stream",
     "text": [
      "Batch Loss: 1.4355\n"
     ]
    },
    {
     "name": "stderr",
     "output_type": "stream",
     "text": [
      " 86%|████████▋ | 108/125 [14:21<01:59,  7.03s/it]"
     ]
    },
    {
     "name": "stdout",
     "output_type": "stream",
     "text": [
      "Batch Loss: 0.3036\n"
     ]
    },
    {
     "name": "stderr",
     "output_type": "stream",
     "text": [
      " 87%|████████▋ | 109/125 [14:28<01:52,  7.01s/it]"
     ]
    },
    {
     "name": "stdout",
     "output_type": "stream",
     "text": [
      "Batch Loss: 0.8987\n"
     ]
    },
    {
     "name": "stderr",
     "output_type": "stream",
     "text": [
      " 88%|████████▊ | 110/125 [14:35<01:46,  7.07s/it]"
     ]
    },
    {
     "name": "stdout",
     "output_type": "stream",
     "text": [
      "Batch Loss: 0.6405\n"
     ]
    },
    {
     "name": "stderr",
     "output_type": "stream",
     "text": [
      " 89%|████████▉ | 111/125 [14:42<01:39,  7.14s/it]"
     ]
    },
    {
     "name": "stdout",
     "output_type": "stream",
     "text": [
      "Batch Loss: 0.6312\n"
     ]
    },
    {
     "name": "stderr",
     "output_type": "stream",
     "text": [
      " 90%|████████▉ | 112/125 [14:50<01:33,  7.19s/it]"
     ]
    },
    {
     "name": "stdout",
     "output_type": "stream",
     "text": [
      "Batch Loss: 1.0738\n"
     ]
    },
    {
     "name": "stderr",
     "output_type": "stream",
     "text": [
      " 90%|█████████ | 113/125 [14:57<01:25,  7.15s/it]"
     ]
    },
    {
     "name": "stdout",
     "output_type": "stream",
     "text": [
      "Batch Loss: 1.0045\n"
     ]
    },
    {
     "name": "stderr",
     "output_type": "stream",
     "text": [
      " 91%|█████████ | 114/125 [15:04<01:18,  7.15s/it]"
     ]
    },
    {
     "name": "stdout",
     "output_type": "stream",
     "text": [
      "Batch Loss: 0.4663\n"
     ]
    },
    {
     "name": "stderr",
     "output_type": "stream",
     "text": [
      " 92%|█████████▏| 115/125 [15:11<01:11,  7.14s/it]"
     ]
    },
    {
     "name": "stdout",
     "output_type": "stream",
     "text": [
      "Batch Loss: 0.5904\n"
     ]
    },
    {
     "name": "stderr",
     "output_type": "stream",
     "text": [
      " 93%|█████████▎| 116/125 [15:18<01:04,  7.12s/it]"
     ]
    },
    {
     "name": "stdout",
     "output_type": "stream",
     "text": [
      "Batch Loss: 0.4788\n"
     ]
    },
    {
     "name": "stderr",
     "output_type": "stream",
     "text": [
      " 94%|█████████▎| 117/125 [15:25<00:56,  7.10s/it]"
     ]
    },
    {
     "name": "stdout",
     "output_type": "stream",
     "text": [
      "Batch Loss: 0.1452\n"
     ]
    },
    {
     "name": "stderr",
     "output_type": "stream",
     "text": [
      " 94%|█████████▍| 118/125 [15:32<00:49,  7.09s/it]"
     ]
    },
    {
     "name": "stdout",
     "output_type": "stream",
     "text": [
      "Batch Loss: 1.0128\n"
     ]
    },
    {
     "name": "stderr",
     "output_type": "stream",
     "text": [
      " 95%|█████████▌| 119/125 [15:39<00:42,  7.03s/it]"
     ]
    },
    {
     "name": "stdout",
     "output_type": "stream",
     "text": [
      "Batch Loss: 0.7677\n"
     ]
    },
    {
     "name": "stderr",
     "output_type": "stream",
     "text": [
      " 96%|█████████▌| 120/125 [15:46<00:34,  6.98s/it]"
     ]
    },
    {
     "name": "stdout",
     "output_type": "stream",
     "text": [
      "Batch Loss: 0.5337\n"
     ]
    },
    {
     "name": "stderr",
     "output_type": "stream",
     "text": [
      " 97%|█████████▋| 121/125 [15:53<00:28,  7.04s/it]"
     ]
    },
    {
     "name": "stdout",
     "output_type": "stream",
     "text": [
      "Batch Loss: 0.3453\n"
     ]
    },
    {
     "name": "stderr",
     "output_type": "stream",
     "text": [
      " 98%|█████████▊| 122/125 [16:00<00:21,  7.13s/it]"
     ]
    },
    {
     "name": "stdout",
     "output_type": "stream",
     "text": [
      "Batch Loss: 1.1090\n"
     ]
    },
    {
     "name": "stderr",
     "output_type": "stream",
     "text": [
      " 98%|█████████▊| 123/125 [16:07<00:14,  7.06s/it]"
     ]
    },
    {
     "name": "stdout",
     "output_type": "stream",
     "text": [
      "Batch Loss: 0.4145\n"
     ]
    },
    {
     "name": "stderr",
     "output_type": "stream",
     "text": [
      " 99%|█████████▉| 124/125 [16:14<00:07,  7.04s/it]"
     ]
    },
    {
     "name": "stdout",
     "output_type": "stream",
     "text": [
      "Batch Loss: 2.0147\n"
     ]
    },
    {
     "name": "stderr",
     "output_type": "stream",
     "text": [
      "100%|██████████| 125/125 [16:20<00:00,  6.64s/it]"
     ]
    },
    {
     "name": "stdout",
     "output_type": "stream",
     "text": [
      "Batch Loss: 0.7412\n",
      "Epoch 1 Average Loss: 1.1676\n"
     ]
    }
   ],
   "source": [
    "# 2. Training Loop\n",
    "optimizer = torch.optim.AdamW(model.parameters(), lr=5e-5)\n",
    "num_epochs = 1\n",
    "num_training_steps = num_epochs * len(train_dataloader)\n",
    "lr_scheduler = get_scheduler(\n",
    "    \"linear\", \n",
    "    optimizer=optimizer, \n",
    "    num_warmup_steps=0, \n",
    "    num_training_steps=num_training_steps\n",
    ")\n",
    "\n",
    "device = torch.device(\"cuda\") if torch.cuda.is_available() else torch.device(\"cpu\")\n",
    "model.to(device)\n",
    "\n",
    "progress_bar = tqdm(range(num_training_steps))\n",
    "\n",
    "model.train()\n",
    "\n",
    "# For accumulating loss over the epoch\n",
    "total_loss = 0.0\n",
    "\n",
    "for epoch in range(num_epochs):\n",
    "    for batch in train_dataloader:\n",
    "        batch = {k: v.to(device) for k, v in batch.items()}\n",
    "        outputs = model(**batch)\n",
    "        loss = outputs.loss\n",
    "        loss.backward()\n",
    "\n",
    "        optimizer.step()\n",
    "        lr_scheduler.step()\n",
    "        optimizer.zero_grad()\n",
    "        \n",
    "        # Add the batch loss to the total loss\n",
    "        total_loss += loss.item()\n",
    "\n",
    "        progress_bar.update(1)\n",
    "        \n",
    "        # Print loss for the current batch\n",
    "        print(f\"Batch Loss: {loss.item():.4f}\")\n",
    "    \n",
    "    # Print average loss for the epoch\n",
    "    avg_loss = total_loss / len(train_dataloader)\n",
    "    print(f\"Epoch {epoch+1} Average Loss: {avg_loss:.4f}\")\n",
    "    \n",
    "    # Reset total_loss for the next epoch\n",
    "    total_loss = 0.0\n"
   ]
  },
  {
   "cell_type": "code",
   "execution_count": 13,
   "metadata": {},
   "outputs": [
    {
     "name": "stderr",
     "output_type": "stream",
     "text": [
      "/var/folders/3y/5f9vshgx76d1z8vmnfwj_xqc0000gn/T/ipykernel_18379/227657001.py:2: FutureWarning: load_metric is deprecated and will be removed in the next major version of datasets. Use 'evaluate.load' instead, from the new library 🤗 Evaluate: https://huggingface.co/docs/evaluate\n",
      "  metric = load_metric(\"accuracy\")\n"
     ]
    },
    {
     "name": "stdout",
     "output_type": "stream",
     "text": [
      "{'accuracy': 0.7907907907907908}\n"
     ]
    }
   ],
   "source": [
    "# 3. Evaluation\n",
    "metric = load_metric(\"accuracy\")\n",
    "\n",
    "# Store probabilities, predictions and true labels\n",
    "all_scores = []\n",
    "all_predictions = []\n",
    "all_true_labels = []\n",
    "\n",
    "model.eval()\n",
    "for batch in eval_dataloader:\n",
    "    batch = {k: v.to(device) for k, v in batch.items()}\n",
    "    with torch.no_grad():\n",
    "        outputs = model(**batch)\n",
    "    logits = outputs.logits\n",
    "\n",
    "    # Get probabilities and predictions\n",
    "    scores = torch.nn.functional.softmax(logits, dim=1).cpu().numpy()\n",
    "    predictions = torch.argmax(logits, dim=-1).cpu().numpy()\n",
    "\n",
    "    # For computing the metric\n",
    "    metric.add_batch(predictions=predictions, references=batch[\"labels\"])\n",
    "\n",
    "    # Save probabilites, predictions and labels\n",
    "    all_scores.extend(scores)\n",
    "    all_predictions.extend(predictions)\n",
    "    all_true_labels.extend(batch[\"labels\"].cpu().numpy())\n",
    "\n",
    "print(metric.compute())"
   ]
  },
  {
   "cell_type": "code",
   "execution_count": 14,
   "metadata": {},
   "outputs": [
    {
     "data": {
      "image/png": "[encoded data removed]",
      "text/plain": [
       "<Figure size 1000x1000 with 2 Axes>"
      ]
     },
     "metadata": {},
     "output_type": "display_data"
    }
   ],
   "source": [
    "# Generate the confusion matrix\n",
    "cm = confusion_matrix(all_true_labels, all_predictions)\n",
    "\n",
    "# Plot the confusion matrix\n",
    "plt.figure(figsize=(10, 10))\n",
    "sns.heatmap(cm, annot=True, fmt='g', cmap='Blues', \n",
    "            xticklabels=label_encoder.classes_, \n",
    "            yticklabels=label_encoder.classes_)\n",
    "plt.xlabel('Predicted labels')\n",
    "plt.ylabel('True labels')\n",
    "plt.title('Confusion Matrix')\n",
    "plt.savefig(here(\"results/biobert_fine_tune_1000_class_confusion_matrix.png\"))\n",
    "plt.show()\n"
   ]
  },
  {
   "cell_type": "code",
   "execution_count": 24,
   "metadata": {},
   "outputs": [
    {
     "name": "stderr",
     "output_type": "stream",
     "text": [
      "/Library/Frameworks/Python.framework/Versions/3.11/lib/python3.11/site-packages/sklearn/metrics/_classification.py:1469: UndefinedMetricWarning: Precision and F-score are ill-defined and being set to 0.0 in labels with no predicted samples. Use `zero_division` parameter to control this behavior.\n",
      "  _warn_prf(average, modifier, msg_start, len(result))\n",
      "/Library/Frameworks/Python.framework/Versions/3.11/lib/python3.11/site-packages/sklearn/metrics/_classification.py:1469: UndefinedMetricWarning: Precision and F-score are ill-defined and being set to 0.0 in labels with no predicted samples. Use `zero_division` parameter to control this behavior.\n",
      "  _warn_prf(average, modifier, msg_start, len(result))\n",
      "/Library/Frameworks/Python.framework/Versions/3.11/lib/python3.11/site-packages/sklearn/metrics/_classification.py:1469: UndefinedMetricWarning: Precision and F-score are ill-defined and being set to 0.0 in labels with no predicted samples. Use `zero_division` parameter to control this behavior.\n",
      "  _warn_prf(average, modifier, msg_start, len(result))\n"
     ]
    }
   ],
   "source": [
    "metrics = classification_report(all_true_labels, all_predictions, target_names=label_encoder.classes_)\n",
    "with open(here(\"results/biobert_classification_report_1000.csv\"), \"w\") as text_file:\n",
    "    text_file.write(metrics)"
   ]
  },
  {
   "cell_type": "code",
   "execution_count": 16,
   "metadata": {},
   "outputs": [
    {
     "data": {
      "image/png": "[encoded data removed]",
      "text/plain": [
       "<Figure size 1000x800 with 1 Axes>"
      ]
     },
     "metadata": {},
     "output_type": "display_data"
    }
   ],
   "source": [
    "from sklearn.metrics import roc_curve, auc\n",
    "from sklearn.preprocessing import label_binarize\n",
    "import numpy as np\n",
    "\n",
    "# Binarize the labels for multi-class ROC\n",
    "true_labels_bin = label_binarize(all_true_labels, classes=np.arange(len(label_encoder.classes_)))\n",
    "\n",
    "plt.figure(figsize=(10, 8))\n",
    "\n",
    "# Compute ROC curve and ROC area for each class\n",
    "for i in range(len(label_encoder.classes_)):\n",
    "    fpr, tpr, _ = roc_curve(true_labels_bin[:, i], np.array(all_scores)[:, i])\n",
    "    roc_auc = auc(fpr, tpr)\n",
    "    plt.plot(fpr, tpr, label=f'Class {label_encoder.classes_[i]} (area = {roc_auc:.2f})')\n",
    "\n",
    "plt.plot([0, 1], [0, 1], 'k--')\n",
    "plt.xlim([0.0, 1.0])\n",
    "plt.ylim([0.0, 1.05])\n",
    "plt.xlabel('False Positive Rate')\n",
    "plt.ylabel('True Positive Rate')\n",
    "plt.title('ROC Curve')\n",
    "plt.legend(loc=\"lower right\")\n",
    "plt.show()\n",
    "\n"
   ]
  },
  {
   "cell_type": "code",
   "execution_count": 17,
   "metadata": {},
   "outputs": [
    {
     "data": {
      "image/png": "[encoded data removed]",
      "text/plain": [
       "<Figure size 1000x800 with 1 Axes>"
      ]
     },
     "metadata": {},
     "output_type": "display_data"
    }
   ],
   "source": [
    "from sklearn.metrics import precision_recall_curve, average_precision_score\n",
    "\n",
    "plt.figure(figsize=(10, 8))\n",
    "\n",
    "# Compute Precision-Recall and plot curve for each class\n",
    "for i in range(len(label_encoder.classes_)):\n",
    "    precision, recall, _ = precision_recall_curve(true_labels_bin[:, i], np.array(all_scores)[:, i])\n",
    "    avg_precision = average_precision_score(true_labels_bin[:, i], np.array(all_scores)[:, i])\n",
    "    plt.plot(recall, precision, label=f'Class {label_encoder.classes_[i]} (avg. precision = {avg_precision:.2f})')\n",
    "\n",
    "plt.xlabel('Recall')\n",
    "plt.ylabel('Precision')\n",
    "plt.title('Precision-Recall Curve')\n",
    "plt.legend(loc=\"upper right\")\n",
    "plt.grid(True)\n",
    "plt.show()\n"
   ]
  },
  {
   "cell_type": "code",
   "execution_count": 18,
   "metadata": {},
   "outputs": [
    {
     "name": "stdout",
     "output_type": "stream",
     "text": [
      "                Class   ROC AUC    PR AUC\n",
      "0            Allergen  0.919160  0.683594\n",
      "1             Autoimm  0.950312  0.834779\n",
      "2              Cancer  0.972427  0.921429\n",
      "3  Infectious_Disease  0.977298  0.967060\n",
      "4               Other  0.887728  0.621802\n",
      "5          Transplant  0.779866  0.314728\n"
     ]
    }
   ],
   "source": [
    "from sklearn.metrics import roc_auc_score, average_precision_score\n",
    "\n",
    "roc_aucs = []\n",
    "pr_aucs = []\n",
    "\n",
    "# Binarize the labels for multi-class AUC calculation\n",
    "true_labels_bin = label_binarize(all_true_labels, classes=np.arange(len(label_encoder.classes_)))\n",
    "\n",
    "# Calculate AUC for each class\n",
    "for i in range(len(label_encoder.classes_)):\n",
    "    roc_auc = roc_auc_score(true_labels_bin[:, i], np.array(all_scores)[:, i])\n",
    "    pr_auc = average_precision_score(true_labels_bin[:, i], np.array(all_scores)[:, i])\n",
    "    \n",
    "    roc_aucs.append(roc_auc)\n",
    "    pr_aucs.append(pr_auc)\n",
    "\n",
    "\n",
    "# Create a DataFrame\n",
    "df = pd.DataFrame({\n",
    "    'Class': label_encoder.classes_,\n",
    "    'ROC AUC': roc_aucs,\n",
    "    'PR AUC': pr_aucs\n",
    "})\n",
    "\n",
    "# Display the table\n",
    "print(df)\n"
   ]
  },
  {
   "cell_type": "code",
   "execution_count": 20,
   "metadata": {},
   "outputs": [
    {
     "data": {
      "image/png": "[encoded data removed]",
      "text/plain": [
       "<Figure size 1000x3000 with 6 Axes>"
      ]
     },
     "metadata": {},
     "output_type": "display_data"
    }
   ],
   "source": [
    "# Convert predictions and true labels to a numpy array for easier indexing\n",
    "predicted_classes = np.array(all_predictions)\n",
    "true_classes = np.array(all_true_labels)\n",
    "\n",
    "# Number of classes\n",
    "num_classes = len(label_encoder.classes_)\n",
    "\n",
    "all_scores_np = np.array(all_scores)\n",
    "\n",
    "# Plot histograms for confidence scores of each class separately\n",
    "fig, axes = plt.subplots(num_classes, 1, figsize=(10, 5 * num_classes))\n",
    "\n",
    "for i in range(num_classes):\n",
    "    # Correct predictions for this class\n",
    "    correct_mask = (predicted_classes == i) & (true_classes == i)\n",
    "    incorrect_mask = (predicted_classes != i) & (true_classes == i)\n",
    "    \n",
    "    axes[i].hist(all_scores_np[correct_mask, i], bins=50, color='green', alpha=0.7, label='Correct Predictions')\n",
    "    axes[i].hist(all_scores_np[incorrect_mask, i], bins=50, color='red', alpha=0.7, label='Incorrect Predictions')\n",
    "    \n",
    "    axes[i].set_title(f'Confidence Scores for Class {label_encoder.classes_[i]}')\n",
    "    axes[i].set_xlabel('Confidence Score')\n",
    "    axes[i].set_ylabel('Number of Samples')\n",
    "    axes[i].legend()\n",
    "    axes[i].grid(True)\n",
    "\n",
    "plt.tight_layout()\n",
    "plt.show()\n"
   ]
  }
 ],
 "metadata": {
  "kernelspec": {
   "display_name": "Python 3",
   "language": "python",
   "name": "python3"
  },
  "language_info": {
   "codemirror_mode": {
    "name": "ipython",
    "version": 3
   },
   "file_extension": ".py",
   "mimetype": "text/x-python",
   "name": "python",
   "nbconvert_exporter": "python",
   "pygments_lexer": "ipython3",
   "version": "3.11.5"
  },
  "orig_nbformat": 4
 },
 "nbformat": 4,
 "nbformat_minor": 2
}
